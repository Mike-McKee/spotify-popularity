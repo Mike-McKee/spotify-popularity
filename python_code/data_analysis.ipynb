{
 "cells": [
  {
   "cell_type": "markdown",
   "id": "2a12932b",
   "metadata": {},
   "source": [
    "# Spotify Data Analysis\n",
    "\n",
    "Now that I've scraped data using Spotify's API, it's time to analyze it.\n",
    "\n",
    "## Here's The Plan\n",
    "\n",
    "1. Data Cleaning\n",
    "2. Exploratory Data Analysis\n",
    "3. Data Visualization"
   ]
  },
  {
   "cell_type": "markdown",
   "id": "1ea01aba-cc7d-4d2d-b0da-5d634a8c24b8",
   "metadata": {},
   "source": [
    "## 0 - Importing Libraries and Reading Data"
   ]
  },
  {
   "cell_type": "code",
   "execution_count": 1,
   "id": "1b159185-be4a-4435-aab2-f23d546f0464",
   "metadata": {
    "tags": []
   },
   "outputs": [],
   "source": [
    "import pandas as pd"
   ]
  },
  {
   "cell_type": "code",
   "execution_count": 4,
   "id": "72c72086-d2d6-4930-b545-62eccbd46616",
   "metadata": {
    "tags": []
   },
   "outputs": [],
   "source": [
    "playlist = pd.read_csv('files/playlist.csv')\n",
    "artists = pd.read_csv('files/updated_artists.csv')"
   ]
  },
  {
   "cell_type": "markdown",
   "id": "3b80a79e-9363-42ac-ba66-b817d231b040",
   "metadata": {},
   "source": [
    "## 1 - Data Cleaning\n",
    "\n",
    "When I scraped the data from my playlist, I created the wrong header names for the csv file. So I'll fix them here."
   ]
  },
  {
   "cell_type": "code",
   "execution_count": 12,
   "id": "26abc0d9-38c2-4d4f-8e47-4eddf6c94a65",
   "metadata": {
    "tags": []
   },
   "outputs": [
    {
     "data": {
      "text/plain": [
       "Index(['Track_Name', 'Track_Id', 'Track_Popularity', 'Artist_1_Name',\n",
       "       'Artist_2_Name', 'Artist_3_Name', 'Artist_4_Name', 'Artist_5_Name',\n",
       "       'Artist_6_Name', 'Artist_1_Popularity', 'Artist_2_Popularity',\n",
       "       'Artist_3_Popularity', 'Artist_4_Popularity', 'Artist_5_Popularity',\n",
       "       'Artist_6_Popularity'],\n",
       "      dtype='object')"
      ]
     },
     "execution_count": 12,
     "metadata": {},
     "output_type": "execute_result"
    }
   ],
   "source": [
    "playlist.columns"
   ]
  },
  {
   "cell_type": "code",
   "execution_count": 25,
   "id": "e6368165-52ca-470a-b4ba-f86420e69bf4",
   "metadata": {
    "tags": []
   },
   "outputs": [
    {
     "data": {
      "text/html": [
       "<div>\n",
       "<style scoped>\n",
       "    .dataframe tbody tr th:only-of-type {\n",
       "        vertical-align: middle;\n",
       "    }\n",
       "\n",
       "    .dataframe tbody tr th {\n",
       "        vertical-align: top;\n",
       "    }\n",
       "\n",
       "    .dataframe thead th {\n",
       "        text-align: right;\n",
       "    }\n",
       "</style>\n",
       "<table border=\"1\" class=\"dataframe\">\n",
       "  <thead>\n",
       "    <tr style=\"text-align: right;\">\n",
       "      <th></th>\n",
       "      <th>Track_Name</th>\n",
       "      <th>Track_Id</th>\n",
       "      <th>Track_Popularity</th>\n",
       "      <th>Artist_1_Name</th>\n",
       "      <th>Artist_2_Name</th>\n",
       "      <th>Artist_3_Name</th>\n",
       "      <th>Artist_4_Name</th>\n",
       "      <th>Artist_5_Name</th>\n",
       "      <th>Artist_6_Name</th>\n",
       "      <th>Artist_1_Id</th>\n",
       "      <th>Artist_2_Id</th>\n",
       "      <th>Artist_3_Id</th>\n",
       "      <th>Artist_4_Id</th>\n",
       "      <th>Artist_5_Id</th>\n",
       "      <th>Artist_6_Id</th>\n",
       "    </tr>\n",
       "  </thead>\n",
       "  <tbody>\n",
       "    <tr>\n",
       "      <th>0</th>\n",
       "      <td>Felices los 4</td>\n",
       "      <td>1RouRzlg8OKFeqc6LvdxmB</td>\n",
       "      <td>77</td>\n",
       "      <td>Maluma</td>\n",
       "      <td>NaN</td>\n",
       "      <td>NaN</td>\n",
       "      <td>NaN</td>\n",
       "      <td>NaN</td>\n",
       "      <td>NaN</td>\n",
       "      <td>1r4hJ1h58CWwUQe3MxPuau</td>\n",
       "      <td>NaN</td>\n",
       "      <td>NaN</td>\n",
       "      <td>NaN</td>\n",
       "      <td>NaN</td>\n",
       "      <td>NaN</td>\n",
       "    </tr>\n",
       "    <tr>\n",
       "      <th>1</th>\n",
       "      <td>ADMV</td>\n",
       "      <td>3eJMSq78dDaFb7VvhNFnq6</td>\n",
       "      <td>72</td>\n",
       "      <td>Maluma</td>\n",
       "      <td>NaN</td>\n",
       "      <td>NaN</td>\n",
       "      <td>NaN</td>\n",
       "      <td>NaN</td>\n",
       "      <td>NaN</td>\n",
       "      <td>1r4hJ1h58CWwUQe3MxPuau</td>\n",
       "      <td>NaN</td>\n",
       "      <td>NaN</td>\n",
       "      <td>NaN</td>\n",
       "      <td>NaN</td>\n",
       "      <td>NaN</td>\n",
       "    </tr>\n",
       "    <tr>\n",
       "      <th>2</th>\n",
       "      <td>Chantaje (feat. Maluma)</td>\n",
       "      <td>6mICuAdrwEjh6Y6lroV2Kg</td>\n",
       "      <td>80</td>\n",
       "      <td>Shakira</td>\n",
       "      <td>Maluma</td>\n",
       "      <td>NaN</td>\n",
       "      <td>NaN</td>\n",
       "      <td>NaN</td>\n",
       "      <td>NaN</td>\n",
       "      <td>0EmeFodog0BfCgMzAIvKQp</td>\n",
       "      <td>1r4hJ1h58CWwUQe3MxPuau</td>\n",
       "      <td>NaN</td>\n",
       "      <td>NaN</td>\n",
       "      <td>NaN</td>\n",
       "      <td>NaN</td>\n",
       "    </tr>\n",
       "    <tr>\n",
       "      <th>3</th>\n",
       "      <td>Ignorantes</td>\n",
       "      <td>3wYRLYuO1M88d8woWUIxct</td>\n",
       "      <td>72</td>\n",
       "      <td>Bad Bunny</td>\n",
       "      <td>Sech</td>\n",
       "      <td>NaN</td>\n",
       "      <td>NaN</td>\n",
       "      <td>NaN</td>\n",
       "      <td>NaN</td>\n",
       "      <td>4q3ewBCX7sLwd24euuV69X</td>\n",
       "      <td>77ziqFxp5gaInVrF2lj4ht</td>\n",
       "      <td>NaN</td>\n",
       "      <td>NaN</td>\n",
       "      <td>NaN</td>\n",
       "      <td>NaN</td>\n",
       "    </tr>\n",
       "    <tr>\n",
       "      <th>4</th>\n",
       "      <td>Me Gusta</td>\n",
       "      <td>5Xhqh4lwJPtMUTsdBztN1a</td>\n",
       "      <td>74</td>\n",
       "      <td>Shakira</td>\n",
       "      <td>Anuel AA</td>\n",
       "      <td>NaN</td>\n",
       "      <td>NaN</td>\n",
       "      <td>NaN</td>\n",
       "      <td>NaN</td>\n",
       "      <td>0EmeFodog0BfCgMzAIvKQp</td>\n",
       "      <td>2R21vXR83lH98kGeO99Y66</td>\n",
       "      <td>NaN</td>\n",
       "      <td>NaN</td>\n",
       "      <td>NaN</td>\n",
       "      <td>NaN</td>\n",
       "    </tr>\n",
       "    <tr>\n",
       "      <th>...</th>\n",
       "      <td>...</td>\n",
       "      <td>...</td>\n",
       "      <td>...</td>\n",
       "      <td>...</td>\n",
       "      <td>...</td>\n",
       "      <td>...</td>\n",
       "      <td>...</td>\n",
       "      <td>...</td>\n",
       "      <td>...</td>\n",
       "      <td>...</td>\n",
       "      <td>...</td>\n",
       "      <td>...</td>\n",
       "      <td>...</td>\n",
       "      <td>...</td>\n",
       "      <td>...</td>\n",
       "    </tr>\n",
       "    <tr>\n",
       "      <th>434</th>\n",
       "      <td>tqum</td>\n",
       "      <td>3zR2iyPKGtAVyvAYZH1YUr</td>\n",
       "      <td>77</td>\n",
       "      <td>Sofia Reyes</td>\n",
       "      <td>Danna Paola</td>\n",
       "      <td>NaN</td>\n",
       "      <td>NaN</td>\n",
       "      <td>NaN</td>\n",
       "      <td>NaN</td>\n",
       "      <td>0haZhu4fFKt0Ag94kZDiz2</td>\n",
       "      <td>5xSx2FM8mQnrfgM1QsHniB</td>\n",
       "      <td>NaN</td>\n",
       "      <td>NaN</td>\n",
       "      <td>NaN</td>\n",
       "      <td>NaN</td>\n",
       "    </tr>\n",
       "    <tr>\n",
       "      <th>435</th>\n",
       "      <td>BESO</td>\n",
       "      <td>609E1JCInJncactoMmkDon</td>\n",
       "      <td>96</td>\n",
       "      <td>ROSALIA</td>\n",
       "      <td>Rauw Alejandro</td>\n",
       "      <td>NaN</td>\n",
       "      <td>NaN</td>\n",
       "      <td>NaN</td>\n",
       "      <td>NaN</td>\n",
       "      <td>7ltDVBr6mKbRvohxheJ9h1</td>\n",
       "      <td>1mcTU81TzQhprhouKaTkpq</td>\n",
       "      <td>NaN</td>\n",
       "      <td>NaN</td>\n",
       "      <td>NaN</td>\n",
       "      <td>NaN</td>\n",
       "    </tr>\n",
       "    <tr>\n",
       "      <th>436</th>\n",
       "      <td>Tattoo</td>\n",
       "      <td>7na7Bk98usp84FaOJFPv3d</td>\n",
       "      <td>69</td>\n",
       "      <td>Rauw Alejandro</td>\n",
       "      <td>NaN</td>\n",
       "      <td>NaN</td>\n",
       "      <td>NaN</td>\n",
       "      <td>NaN</td>\n",
       "      <td>NaN</td>\n",
       "      <td>1mcTU81TzQhprhouKaTkpq</td>\n",
       "      <td>NaN</td>\n",
       "      <td>NaN</td>\n",
       "      <td>NaN</td>\n",
       "      <td>NaN</td>\n",
       "      <td>NaN</td>\n",
       "    </tr>\n",
       "    <tr>\n",
       "      <th>437</th>\n",
       "      <td>8 AM</td>\n",
       "      <td>7CSmXJNeArnwDfUmtP4Gve</td>\n",
       "      <td>77</td>\n",
       "      <td>Nicki Nicole</td>\n",
       "      <td>Young Miko</td>\n",
       "      <td>NaN</td>\n",
       "      <td>NaN</td>\n",
       "      <td>NaN</td>\n",
       "      <td>NaN</td>\n",
       "      <td>2UZIAOlrnyZmyzt1nuXr9y</td>\n",
       "      <td>3qsKSpcV3ncke3hw52JSMB</td>\n",
       "      <td>NaN</td>\n",
       "      <td>NaN</td>\n",
       "      <td>NaN</td>\n",
       "      <td>NaN</td>\n",
       "    </tr>\n",
       "    <tr>\n",
       "      <th>438</th>\n",
       "      <td>Besos Moja2</td>\n",
       "      <td>6OzUIp8KjuwxJnCWkXp1uL</td>\n",
       "      <td>86</td>\n",
       "      <td>Wisin &amp; Yandel</td>\n",
       "      <td>ROSALIA</td>\n",
       "      <td>NaN</td>\n",
       "      <td>NaN</td>\n",
       "      <td>NaN</td>\n",
       "      <td>NaN</td>\n",
       "      <td>1wZtkThiXbVNtj6hee6dz9</td>\n",
       "      <td>7ltDVBr6mKbRvohxheJ9h1</td>\n",
       "      <td>NaN</td>\n",
       "      <td>NaN</td>\n",
       "      <td>NaN</td>\n",
       "      <td>NaN</td>\n",
       "    </tr>\n",
       "  </tbody>\n",
       "</table>\n",
       "<p>439 rows × 15 columns</p>\n",
       "</div>"
      ],
      "text/plain": [
       "                  Track_Name                Track_Id  Track_Popularity  \\\n",
       "0              Felices los 4  1RouRzlg8OKFeqc6LvdxmB                77   \n",
       "1                       ADMV  3eJMSq78dDaFb7VvhNFnq6                72   \n",
       "2    Chantaje (feat. Maluma)  6mICuAdrwEjh6Y6lroV2Kg                80   \n",
       "3                 Ignorantes  3wYRLYuO1M88d8woWUIxct                72   \n",
       "4                   Me Gusta  5Xhqh4lwJPtMUTsdBztN1a                74   \n",
       "..                       ...                     ...               ...   \n",
       "434                     tqum  3zR2iyPKGtAVyvAYZH1YUr                77   \n",
       "435                     BESO  609E1JCInJncactoMmkDon                96   \n",
       "436                   Tattoo  7na7Bk98usp84FaOJFPv3d                69   \n",
       "437                     8 AM  7CSmXJNeArnwDfUmtP4Gve                77   \n",
       "438              Besos Moja2  6OzUIp8KjuwxJnCWkXp1uL                86   \n",
       "\n",
       "      Artist_1_Name   Artist_2_Name Artist_3_Name Artist_4_Name Artist_5_Name  \\\n",
       "0            Maluma             NaN           NaN           NaN           NaN   \n",
       "1            Maluma             NaN           NaN           NaN           NaN   \n",
       "2           Shakira          Maluma           NaN           NaN           NaN   \n",
       "3         Bad Bunny            Sech           NaN           NaN           NaN   \n",
       "4           Shakira        Anuel AA           NaN           NaN           NaN   \n",
       "..              ...             ...           ...           ...           ...   \n",
       "434     Sofia Reyes     Danna Paola           NaN           NaN           NaN   \n",
       "435         ROSALIA  Rauw Alejandro           NaN           NaN           NaN   \n",
       "436  Rauw Alejandro             NaN           NaN           NaN           NaN   \n",
       "437    Nicki Nicole      Young Miko           NaN           NaN           NaN   \n",
       "438  Wisin & Yandel         ROSALIA           NaN           NaN           NaN   \n",
       "\n",
       "    Artist_6_Name             Artist_1_Id             Artist_2_Id Artist_3_Id  \\\n",
       "0             NaN  1r4hJ1h58CWwUQe3MxPuau                     NaN         NaN   \n",
       "1             NaN  1r4hJ1h58CWwUQe3MxPuau                     NaN         NaN   \n",
       "2             NaN  0EmeFodog0BfCgMzAIvKQp  1r4hJ1h58CWwUQe3MxPuau         NaN   \n",
       "3             NaN  4q3ewBCX7sLwd24euuV69X  77ziqFxp5gaInVrF2lj4ht         NaN   \n",
       "4             NaN  0EmeFodog0BfCgMzAIvKQp  2R21vXR83lH98kGeO99Y66         NaN   \n",
       "..            ...                     ...                     ...         ...   \n",
       "434           NaN  0haZhu4fFKt0Ag94kZDiz2  5xSx2FM8mQnrfgM1QsHniB         NaN   \n",
       "435           NaN  7ltDVBr6mKbRvohxheJ9h1  1mcTU81TzQhprhouKaTkpq         NaN   \n",
       "436           NaN  1mcTU81TzQhprhouKaTkpq                     NaN         NaN   \n",
       "437           NaN  2UZIAOlrnyZmyzt1nuXr9y  3qsKSpcV3ncke3hw52JSMB         NaN   \n",
       "438           NaN  1wZtkThiXbVNtj6hee6dz9  7ltDVBr6mKbRvohxheJ9h1         NaN   \n",
       "\n",
       "    Artist_4_Id Artist_5_Id Artist_6_Id  \n",
       "0           NaN         NaN         NaN  \n",
       "1           NaN         NaN         NaN  \n",
       "2           NaN         NaN         NaN  \n",
       "3           NaN         NaN         NaN  \n",
       "4           NaN         NaN         NaN  \n",
       "..          ...         ...         ...  \n",
       "434         NaN         NaN         NaN  \n",
       "435         NaN         NaN         NaN  \n",
       "436         NaN         NaN         NaN  \n",
       "437         NaN         NaN         NaN  \n",
       "438         NaN         NaN         NaN  \n",
       "\n",
       "[439 rows x 15 columns]"
      ]
     },
     "execution_count": 25,
     "metadata": {},
     "output_type": "execute_result"
    }
   ],
   "source": [
    "playlist.rename(columns={\n",
    "                    'Artist_1_Popularity': 'Artist_1_Id', \n",
    "                    'Artist_2_Popularity': 'Artist_2_Id',\n",
    "                    'Artist_3_Popularity': 'Artist_3_Id',\n",
    "                    'Artist_4_Popularity': 'Artist_4_Id',\n",
    "                    'Artist_5_Popularity': 'Artist_5_Id',\n",
    "                    'Artist_6_Popularity': 'Artist_6_Id'})"
   ]
  },
  {
   "cell_type": "markdown",
   "id": "3848b431-ec22-46de-acf5-d6fed869edd4",
   "metadata": {},
   "source": [
    "## 2 - Exploratory Data Analysis\n",
    "\n",
    "Here are the metrics I'm looking for:\n",
    "\n",
    "1. total number of songs\n",
    "2. total number of artists\n",
    "3. average song popularity\n",
    "4. average artist popularity\n",
    "5. average number of artists per song\n",
    "6. number of times each artist appears\n",
    "7. percentage of artists' top tracks in my playlist\n",
    "8. ration of \"% top tracks in playlist\" to total number of artist's songs in playlist\n",
    "9. total number of songs with featured artists"
   ]
  },
  {
   "cell_type": "markdown",
   "id": "fae4d92e-7caf-40a9-b678-1ecd8ff4fd97",
   "metadata": {},
   "source": [
    "### 1. total number of songs\n",
    "\n",
    "This is as easy as using the pandas `shape` function to check how many rows are in the csv.\n",
    "\n",
    "And you can see there aer 439 rows... aka 439 songs."
   ]
  },
  {
   "cell_type": "code",
   "execution_count": 26,
   "id": "bc0a2b73-261e-4172-a487-b06f554880a6",
   "metadata": {
    "tags": []
   },
   "outputs": [
    {
     "data": {
      "text/plain": [
       "(439, 15)"
      ]
     },
     "execution_count": 26,
     "metadata": {},
     "output_type": "execute_result"
    }
   ],
   "source": [
    "playlist.shape"
   ]
  },
  {
   "cell_type": "markdown",
   "id": "e917471e-538b-4059-a96a-f301ba06c671",
   "metadata": {},
   "source": [
    "### 2. total number of artists\n",
    "\n",
    "Again, we use the pandas `shape` function with the `artists.csv` to find how many rows there are.\n",
    "\n",
    "**There are 232 artists.**"
   ]
  },
  {
   "cell_type": "code",
   "execution_count": 28,
   "id": "77786812-729d-40b3-8508-588c1dc22bc2",
   "metadata": {
    "tags": []
   },
   "outputs": [
    {
     "data": {
      "text/plain": [
       "(232, 13)"
      ]
     },
     "execution_count": 28,
     "metadata": {},
     "output_type": "execute_result"
    }
   ],
   "source": [
    "artists.shape"
   ]
  },
  {
   "cell_type": "markdown",
   "id": "e98d9637-692c-4c4b-89f4-3f1117144cce",
   "metadata": {},
   "source": [
    "### 3. average song popularity\n",
    "\n",
    "Using pandas `describe` function, **the average song popularity is about 61.**"
   ]
  },
  {
   "cell_type": "code",
   "execution_count": 29,
   "id": "04974e13-a0ec-4632-a4ff-6a71e08ee007",
   "metadata": {
    "tags": []
   },
   "outputs": [
    {
     "data": {
      "text/html": [
       "<div>\n",
       "<style scoped>\n",
       "    .dataframe tbody tr th:only-of-type {\n",
       "        vertical-align: middle;\n",
       "    }\n",
       "\n",
       "    .dataframe tbody tr th {\n",
       "        vertical-align: top;\n",
       "    }\n",
       "\n",
       "    .dataframe thead th {\n",
       "        text-align: right;\n",
       "    }\n",
       "</style>\n",
       "<table border=\"1\" class=\"dataframe\">\n",
       "  <thead>\n",
       "    <tr style=\"text-align: right;\">\n",
       "      <th></th>\n",
       "      <th>Track_Popularity</th>\n",
       "    </tr>\n",
       "  </thead>\n",
       "  <tbody>\n",
       "    <tr>\n",
       "      <th>count</th>\n",
       "      <td>439.000000</td>\n",
       "    </tr>\n",
       "    <tr>\n",
       "      <th>mean</th>\n",
       "      <td>61.369021</td>\n",
       "    </tr>\n",
       "    <tr>\n",
       "      <th>std</th>\n",
       "      <td>20.061675</td>\n",
       "    </tr>\n",
       "    <tr>\n",
       "      <th>min</th>\n",
       "      <td>0.000000</td>\n",
       "    </tr>\n",
       "    <tr>\n",
       "      <th>25%</th>\n",
       "      <td>56.000000</td>\n",
       "    </tr>\n",
       "    <tr>\n",
       "      <th>50%</th>\n",
       "      <td>65.000000</td>\n",
       "    </tr>\n",
       "    <tr>\n",
       "      <th>75%</th>\n",
       "      <td>74.000000</td>\n",
       "    </tr>\n",
       "    <tr>\n",
       "      <th>max</th>\n",
       "      <td>96.000000</td>\n",
       "    </tr>\n",
       "  </tbody>\n",
       "</table>\n",
       "</div>"
      ],
      "text/plain": [
       "       Track_Popularity\n",
       "count        439.000000\n",
       "mean          61.369021\n",
       "std           20.061675\n",
       "min            0.000000\n",
       "25%           56.000000\n",
       "50%           65.000000\n",
       "75%           74.000000\n",
       "max           96.000000"
      ]
     },
     "execution_count": 29,
     "metadata": {},
     "output_type": "execute_result"
    }
   ],
   "source": [
    "playlist.describe()"
   ]
  },
  {
   "cell_type": "markdown",
   "id": "7dc1d358-cc3b-4667-a9c6-c7f240c7700c",
   "metadata": {},
   "source": [
    "### 4. average artist popularity\n",
    "\n",
    "Again using `describe`, **the average artist popularity is about 67.**"
   ]
  },
  {
   "cell_type": "code",
   "execution_count": 30,
   "id": "98a5a33e-f993-44b8-b338-d0da127d1d07",
   "metadata": {
    "tags": []
   },
   "outputs": [
    {
     "data": {
      "text/html": [
       "<div>\n",
       "<style scoped>\n",
       "    .dataframe tbody tr th:only-of-type {\n",
       "        vertical-align: middle;\n",
       "    }\n",
       "\n",
       "    .dataframe tbody tr th {\n",
       "        vertical-align: top;\n",
       "    }\n",
       "\n",
       "    .dataframe thead th {\n",
       "        text-align: right;\n",
       "    }\n",
       "</style>\n",
       "<table border=\"1\" class=\"dataframe\">\n",
       "  <thead>\n",
       "    <tr style=\"text-align: right;\">\n",
       "      <th></th>\n",
       "      <th>Artist_Popularity</th>\n",
       "    </tr>\n",
       "  </thead>\n",
       "  <tbody>\n",
       "    <tr>\n",
       "      <th>count</th>\n",
       "      <td>232.000000</td>\n",
       "    </tr>\n",
       "    <tr>\n",
       "      <th>mean</th>\n",
       "      <td>67.258621</td>\n",
       "    </tr>\n",
       "    <tr>\n",
       "      <th>std</th>\n",
       "      <td>16.186479</td>\n",
       "    </tr>\n",
       "    <tr>\n",
       "      <th>min</th>\n",
       "      <td>0.000000</td>\n",
       "    </tr>\n",
       "    <tr>\n",
       "      <th>25%</th>\n",
       "      <td>59.750000</td>\n",
       "    </tr>\n",
       "    <tr>\n",
       "      <th>50%</th>\n",
       "      <td>71.000000</td>\n",
       "    </tr>\n",
       "    <tr>\n",
       "      <th>75%</th>\n",
       "      <td>79.000000</td>\n",
       "    </tr>\n",
       "    <tr>\n",
       "      <th>max</th>\n",
       "      <td>96.000000</td>\n",
       "    </tr>\n",
       "  </tbody>\n",
       "</table>\n",
       "</div>"
      ],
      "text/plain": [
       "       Artist_Popularity\n",
       "count         232.000000\n",
       "mean           67.258621\n",
       "std            16.186479\n",
       "min             0.000000\n",
       "25%            59.750000\n",
       "50%            71.000000\n",
       "75%            79.000000\n",
       "max            96.000000"
      ]
     },
     "execution_count": 30,
     "metadata": {},
     "output_type": "execute_result"
    }
   ],
   "source": [
    "artists.describe()"
   ]
  },
  {
   "cell_type": "markdown",
   "id": "507a4238-aef0-4e8b-8fdf-c8ad75c730dd",
   "metadata": {
    "tags": []
   },
   "source": [
    "### 5. average number of artists per song\n",
    "\n",
    "Here's where the code gets fun...\n",
    "\n",
    "Once I find the count of songs per each number of artists, I'll use an `Expected Value` formula I learned while studying probability and stats.\n",
    "\n",
    "As you can see, **the average number of artists per song is 1.9066059225512528 (which rounds up to 2)**"
   ]
  },
  {
   "cell_type": "code",
   "execution_count": 35,
   "id": "b8f2c9e7-6e7e-4174-8e43-a1479f58c466",
   "metadata": {
    "tags": []
   },
   "outputs": [
    {
     "name": "stdout",
     "output_type": "stream",
     "text": [
      "Artist_1_Name has 439 non-null values\n",
      "Artist_2_Name has 282 non-null values\n",
      "Artist_3_Name has 73 non-null values\n",
      "Artist_4_Name has 25 non-null values\n",
      "Artist_5_Name has 13 non-null values\n",
      "Artist_6_Name has 5 non-null values\n"
     ]
    }
   ],
   "source": [
    "#Testing the for loop I'll use in my EV equation\n",
    "\n",
    "for column in playlist.columns:\n",
    "    if column.startswith('Artist_') and column.endswith('Name'):\n",
    "        count = playlist[column][playlist[column] != ''].count()\n",
    "        print(f'{column} has {count} non-null values')"
   ]
  },
  {
   "cell_type": "code",
   "execution_count": 50,
   "id": "9ca61562-c1bb-4f64-9764-2cf6fc07d12a",
   "metadata": {
    "tags": []
   },
   "outputs": [
    {
     "name": "stdout",
     "output_type": "stream",
     "text": [
      "The average number of artsist per song is 1.9066059225512528\n"
     ]
    }
   ],
   "source": [
    "num_artists = [1, 2, 3, 4, 5, 6]\n",
    "temp_count = []\n",
    "\n",
    "for column in playlist.columns:\n",
    "    if column.startswith('Artist_') and column.endswith('Name'):\n",
    "        count = playlist[column][playlist[column] != ''].count()\n",
    "        temp_count.append(count)\n",
    "\n",
    "for i in range(len(temp_count)):\n",
    "    if temp_count[i] != temp_count[-1]:\n",
    "        temp_count[i] -= temp_count[i+1]\n",
    "\n",
    "expected_value = sum(n * (p/439) for n,p in zip(num_artists, temp_count))\n",
    "print(f'The average number of artsist per song is {expected_value}')"
   ]
  },
  {
   "cell_type": "markdown",
   "id": "b9753255-eea4-46fc-898d-bb22b100d7da",
   "metadata": {},
   "source": [
    "### 6. number of times each artists appears\n",
    "\n",
    "Now I'm looking for the number of times each artist shows up on my playlist. ***Note:*** this doesn't mean the number of songs an each artist has on my playlist. This calculation includes the *number of features* each artist has too."
   ]
  },
  {
   "cell_type": "code",
   "execution_count": null,
   "id": "dfa90690-a3e9-45d1-b043-74851b16fe15",
   "metadata": {},
   "outputs": [],
   "source": []
  }
 ],
 "metadata": {
  "kernelspec": {
   "display_name": "Python 3 (ipykernel)",
   "language": "python",
   "name": "python3"
  },
  "language_info": {
   "codemirror_mode": {
    "name": "ipython",
    "version": 3
   },
   "file_extension": ".py",
   "mimetype": "text/x-python",
   "name": "python",
   "nbconvert_exporter": "python",
   "pygments_lexer": "ipython3",
   "version": "3.7.7"
  }
 },
 "nbformat": 4,
 "nbformat_minor": 5
}
